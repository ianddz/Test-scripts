{
 "cells": [
  {
   "cell_type": "code",
   "execution_count": 2,
   "metadata": {},
   "outputs": [
    {
     "name": "stdout",
     "output_type": "stream",
     "text": [
      "K NG LR \n",
      "What is your guess? Lion King\n",
      "No. The answer is  KING LEAR\n"
     ]
    }
   ],
   "source": [
    "import random\n",
    "\n",
    "questions = [\"As You Like It\", \"The Tempest\", \n",
    "\"Measure for Measure\", \"Much Ado About Nothing\", \n",
    "\"The Comedy of Errors\", \"King Lear\", \"Cymbeline\",\n",
    "\"Hamlet\", \"Coriolanus\", \"Othello\",\"Love's Labour's Lost\", \"King John\", \"Julius Caesar\", \"Edward III\"]\n",
    "\n",
    "chosen_phrase = random.choice(questions)\n",
    "chosen_phrase = chosen_phrase.upper()\n",
    "\n",
    "vowels = [\"A\", \"E\", \"I\", \"O\", \"U\", \" \", \"'\"]\n",
    "puzzle = \"\"\n",
    "\n",
    "\n",
    "for letter in chosen_phrase:\n",
    "    if not letter in vowels:\n",
    "        puzzle += letter\n",
    "\n",
    "\n",
    "puzzle_with_spaces = \"\"\n",
    "\n",
    "\n",
    "while len(puzzle) > 0:\n",
    "    group_length = random.randint(1,5)\n",
    "    puzzle_with_spaces += puzzle[:group_length] + \" \"\n",
    "    puzzle = puzzle[group_length:]\n",
    "\n",
    "\n",
    "print(puzzle_with_spaces)\n",
    "guess = input(\"What is your guess? \")\n",
    "guess = guess.upper()\n",
    "\n",
    "\n",
    "if guess == chosen_phrase:\n",
    "    print(\"That's correct!\")\n",
    "else:\n",
    "    print(\"No. The answer is \", chosen_phrase)"
   ]
  },
  {
   "cell_type": "code",
   "execution_count": null,
   "metadata": {},
   "outputs": [],
   "source": []
  }
 ],
 "metadata": {
  "kernelspec": {
   "display_name": "Python 3",
   "language": "python",
   "name": "python3"
  },
  "language_info": {
   "codemirror_mode": {
    "name": "ipython",
    "version": 3
   },
   "file_extension": ".py",
   "mimetype": "text/x-python",
   "name": "python",
   "nbconvert_exporter": "python",
   "pygments_lexer": "ipython3",
   "version": "3.7.3"
  }
 },
 "nbformat": 4,
 "nbformat_minor": 2
}
